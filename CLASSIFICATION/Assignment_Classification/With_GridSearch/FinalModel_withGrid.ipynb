{
 "cells": [
  {
   "cell_type": "code",
   "execution_count": 1,
   "id": "a2f0ba53",
   "metadata": {},
   "outputs": [],
   "source": [
    "from AlgorithmFunction_withGrid import Algorithms"
   ]
  },
  {
   "cell_type": "code",
   "execution_count": 2,
   "id": "a85ff93e",
   "metadata": {},
   "outputs": [
    {
     "name": "stdout",
     "output_type": "stream",
     "text": [
      "Fitting 5 folds for each of 40 candidates, totalling 200 fits\n",
      "Best Parameters: {'C': 10, 'gamma': 'auto', 'kernel': 'rbf'}\n",
      "Best Cross-Validation Score: 0.9887491264849755\n",
      "[[[51  0]\n",
      "  [ 3 79]]\n",
      "\n",
      " [[79  3]\n",
      "  [ 0 51]]]\n",
      "              precision    recall  f1-score   support\n",
      "\n",
      "           0       1.00      0.96      0.98        82\n",
      "           1       0.94      1.00      0.97        51\n",
      "\n",
      "    accuracy                           0.98       133\n",
      "   macro avg       0.97      0.98      0.98       133\n",
      "weighted avg       0.98      0.98      0.98       133\n",
      "\n"
     ]
    },
    {
     "name": "stderr",
     "output_type": "stream",
     "text": [
      "C:\\Users\\Dharani Vinoth\\anaconda3\\Lib\\site-packages\\sklearn\\utils\\validation.py:1184: DataConversionWarning: A column-vector y was passed when a 1d array was expected. Please change the shape of y to (n_samples, ), for example using ravel().\n",
      "  y = column_or_1d(y, warn=True)\n"
     ]
    }
   ],
   "source": [
    "algo = Algorithms()  # create an instance\n",
    "algo.setup()         # call setup to prepare data\n",
    "algo.SVM()           # now call the method on the instance\n"
   ]
  },
  {
   "cell_type": "code",
   "execution_count": 3,
   "id": "25c4bda4",
   "metadata": {
    "scrolled": true
   },
   "outputs": [
    {
     "name": "stdout",
     "output_type": "stream",
     "text": [
      "Fitting 5 folds for each of 30 candidates, totalling 150 fits\n"
     ]
    },
    {
     "name": "stderr",
     "output_type": "stream",
     "text": [
      "C:\\Users\\Dharani Vinoth\\anaconda3\\Lib\\site-packages\\sklearn\\neighbors\\_classification.py:228: DataConversionWarning: A column-vector y was passed when a 1d array was expected. Please change the shape of y to (n_samples,), for example using ravel().\n",
      "  return self._fit(X, y)\n"
     ]
    },
    {
     "name": "stdout",
     "output_type": "stream",
     "text": [
      "Best Parameters: {'metric': 'euclidean', 'n_neighbors': 3, 'weights': 'uniform'}\n",
      "Best Cross-Validation Score: 0.9812019566736547\n",
      "[[[51  0]\n",
      "  [ 4 78]]\n",
      "\n",
      " [[78  4]\n",
      "  [ 0 51]]]\n",
      "              precision    recall  f1-score   support\n",
      "\n",
      "           0       1.00      0.95      0.97        82\n",
      "           1       0.93      1.00      0.96        51\n",
      "\n",
      "    accuracy                           0.97       133\n",
      "   macro avg       0.96      0.98      0.97       133\n",
      "weighted avg       0.97      0.97      0.97       133\n",
      "\n"
     ]
    }
   ],
   "source": [
    "algo = Algorithms()  # create an instance\n",
    "algo.setup()         # call setup to prepare data\n",
    "algo.KNN()    "
   ]
  },
  {
   "cell_type": "code",
   "execution_count": 4,
   "id": "ef9c0c7f",
   "metadata": {},
   "outputs": [
    {
     "name": "stdout",
     "output_type": "stream",
     "text": [
      "Fitting 5 folds for each of 12 candidates, totalling 60 fits\n",
      "Best Parameters: {'criterion': 'log_loss', 'max_features': 'log2', 'splitter': 'random'}\n",
      "Best Cross-Validation Score: 0.9774283717679945\n",
      "[[[51  0]\n",
      "  [ 9 73]]\n",
      "\n",
      " [[73  9]\n",
      "  [ 0 51]]]\n",
      "              precision    recall  f1-score   support\n",
      "\n",
      "           0       1.00      0.89      0.94        82\n",
      "           1       0.85      1.00      0.92        51\n",
      "\n",
      "    accuracy                           0.93       133\n",
      "   macro avg       0.93      0.95      0.93       133\n",
      "weighted avg       0.94      0.93      0.93       133\n",
      "\n"
     ]
    }
   ],
   "source": [
    "algo = Algorithms()  # create an instance\n",
    "algo.setup()         # call setup to prepare data\n",
    "algo.DT()    "
   ]
  },
  {
   "cell_type": "code",
   "execution_count": 5,
   "id": "02711eac",
   "metadata": {},
   "outputs": [
    {
     "name": "stdout",
     "output_type": "stream",
     "text": [
      "Fitting 5 folds for each of 12 candidates, totalling 60 fits\n",
      "Best Parameters: {'criterion': 'gini', 'max_features': 'sqrt', 'n_estimators': 100}\n",
      "Best Cross-Validation Score: 0.9849056603773585\n",
      "[[[51  0]\n",
      "  [ 1 81]]\n",
      "\n",
      " [[81  1]\n",
      "  [ 0 51]]]\n",
      "              precision    recall  f1-score   support\n",
      "\n",
      "           0       1.00      0.99      0.99        82\n",
      "           1       0.98      1.00      0.99        51\n",
      "\n",
      "    accuracy                           0.99       133\n",
      "   macro avg       0.99      0.99      0.99       133\n",
      "weighted avg       0.99      0.99      0.99       133\n",
      "\n"
     ]
    },
    {
     "name": "stderr",
     "output_type": "stream",
     "text": [
      "C:\\Users\\Dharani Vinoth\\anaconda3\\Lib\\site-packages\\sklearn\\base.py:1151: DataConversionWarning: A column-vector y was passed when a 1d array was expected. Please change the shape of y to (n_samples,), for example using ravel().\n",
      "  return fit_method(estimator, *args, **kwargs)\n"
     ]
    }
   ],
   "source": [
    "algo = Algorithms()  # create an instance\n",
    "algo.setup()         # call setup to prepare data\n",
    "algo.RF()    "
   ]
  },
  {
   "cell_type": "code",
   "execution_count": 6,
   "id": "76ab52dc",
   "metadata": {},
   "outputs": [
    {
     "name": "stdout",
     "output_type": "stream",
     "text": [
      "Fitting 5 folds for each of 16 candidates, totalling 80 fits\n",
      "Best Parameters: {'C': 0.1, 'penalty': 'l2', 'solver': 'saga'}\n",
      "Best Cross-Validation Score: 0.9812019566736548\n",
      "[[[51  0]\n",
      "  [ 2 80]]\n",
      "\n",
      " [[80  2]\n",
      "  [ 0 51]]]\n",
      "              precision    recall  f1-score   support\n",
      "\n",
      "           0       1.00      0.98      0.99        82\n",
      "           1       0.96      1.00      0.98        51\n",
      "\n",
      "    accuracy                           0.98       133\n",
      "   macro avg       0.98      0.99      0.98       133\n",
      "weighted avg       0.99      0.98      0.99       133\n",
      "\n"
     ]
    },
    {
     "name": "stderr",
     "output_type": "stream",
     "text": [
      "C:\\Users\\Dharani Vinoth\\anaconda3\\Lib\\site-packages\\sklearn\\utils\\validation.py:1184: DataConversionWarning: A column-vector y was passed when a 1d array was expected. Please change the shape of y to (n_samples, ), for example using ravel().\n",
      "  y = column_or_1d(y, warn=True)\n",
      "C:\\Users\\Dharani Vinoth\\anaconda3\\Lib\\site-packages\\sklearn\\linear_model\\_sag.py:350: ConvergenceWarning: The max_iter was reached which means the coef_ did not converge\n",
      "  warnings.warn(\n"
     ]
    }
   ],
   "source": [
    "algo = Algorithms()  # create an instance\n",
    "algo.setup()         # call setup to prepare data\n",
    "algo.LGR()    "
   ]
  },
  {
   "cell_type": "code",
   "execution_count": 7,
   "id": "bb132291",
   "metadata": {},
   "outputs": [
    {
     "name": "stdout",
     "output_type": "stream",
     "text": [
      "Fitting 5 folds for each of 5 candidates, totalling 25 fits\n",
      "Best Parameters: {'var_smoothing': 1e-09}\n",
      "Best Cross-Validation Score: 0.9812019566736548\n",
      "[[[51  0]\n",
      "  [ 3 79]]\n",
      "\n",
      " [[79  3]\n",
      "  [ 0 51]]]\n",
      "              precision    recall  f1-score   support\n",
      "\n",
      "           0       1.00      0.96      0.98        82\n",
      "           1       0.94      1.00      0.97        51\n",
      "\n",
      "    accuracy                           0.98       133\n",
      "   macro avg       0.97      0.98      0.98       133\n",
      "weighted avg       0.98      0.98      0.98       133\n",
      "\n"
     ]
    },
    {
     "name": "stderr",
     "output_type": "stream",
     "text": [
      "C:\\Users\\Dharani Vinoth\\anaconda3\\Lib\\site-packages\\sklearn\\utils\\validation.py:1184: DataConversionWarning: A column-vector y was passed when a 1d array was expected. Please change the shape of y to (n_samples, ), for example using ravel().\n",
      "  y = column_or_1d(y, warn=True)\n"
     ]
    }
   ],
   "source": [
    "\n",
    "from AlgorithmFunction_withGrid import Algorithms\n",
    "algo = Algorithms()  # create an instance\n",
    "algo.setup()         # call setup to prepare data\n",
    "algo.NB()  "
   ]
  },
  {
   "cell_type": "code",
   "execution_count": null,
   "id": "d4c7af69",
   "metadata": {},
   "outputs": [],
   "source": []
  },
  {
   "cell_type": "code",
   "execution_count": null,
   "id": "888b4f70",
   "metadata": {},
   "outputs": [],
   "source": []
  },
  {
   "cell_type": "code",
   "execution_count": null,
   "id": "c376be86",
   "metadata": {},
   "outputs": [],
   "source": []
  }
 ],
 "metadata": {
  "kernelspec": {
   "display_name": "Python 3 (ipykernel)",
   "language": "python",
   "name": "python3"
  },
  "language_info": {
   "codemirror_mode": {
    "name": "ipython",
    "version": 3
   },
   "file_extension": ".py",
   "mimetype": "text/x-python",
   "name": "python",
   "nbconvert_exporter": "python",
   "pygments_lexer": "ipython3",
   "version": "3.11.5"
  }
 },
 "nbformat": 4,
 "nbformat_minor": 5
}
